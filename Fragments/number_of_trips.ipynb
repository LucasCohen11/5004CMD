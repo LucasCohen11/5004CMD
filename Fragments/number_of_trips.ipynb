{
 "cells": [
  {
   "cell_type": "code",
   "execution_count": 3,
   "id": "84330ed0",
   "metadata": {},
   "outputs": [],
   "source": [
    "import pandas as pd"
   ]
  },
  {
   "cell_type": "code",
   "execution_count": 4,
   "id": "2d000a8f",
   "metadata": {},
   "outputs": [],
   "source": [
    "df = pd.read_csv(r\"../data/Trips_by_Distance.csv\")"
   ]
  },
  {
   "cell_type": "code",
   "execution_count": 5,
   "id": "efb8ab28",
   "metadata": {},
   "outputs": [],
   "source": [
    "df = df[df['Level']=='National']"
   ]
  },
  {
   "cell_type": "code",
   "execution_count": 9,
   "id": "c83d2d73",
   "metadata": {},
   "outputs": [],
   "source": [
    "cols = [x for x in df.columns if 'Number of Trips ' in x]"
   ]
  },
  {
   "cell_type": "code",
   "execution_count": 12,
   "id": "57b3c6c5",
   "metadata": {},
   "outputs": [],
   "source": [
    "df['Sum of Trips'] = df[cols].sum(axis=1)"
   ]
  },
  {
   "cell_type": "code",
   "execution_count": 14,
   "id": "933ebe8a",
   "metadata": {},
   "outputs": [],
   "source": [
    "#Test whether the sum of 'trips (<|>) [x] Miles' add up to 'Number of Trips'\n",
    "df['Trip_Sum_Difference'] = df['Sum of Trips'] - df['Number of Trips']\n"
   ]
  },
  {
   "cell_type": "code",
   "execution_count": 16,
   "id": "83dc18e1",
   "metadata": {},
   "outputs": [
    {
     "name": "stdout",
     "output_type": "stream",
     "text": [
      "Empty DataFrame\n",
      "Columns: [Sum of Trips, Number of Trips, Difference]\n",
      "Index: []\n"
     ]
    }
   ],
   "source": [
    "weekly_diff = df.groupby('Week')[['Sum of Trips', 'Number of Trips']].sum()\n",
    "weekly_diff['Difference'] = weekly_diff['Sum of Trips'] - weekly_diff['Number of Trips']\n",
    "\n",
    "# Show the result\n",
    "print(weekly_diff[weekly_diff['Difference']>0])"
   ]
  },
  {
   "cell_type": "markdown",
   "id": "09471838",
   "metadata": {},
   "source": [
    "# As we can see, we can utilize the 'Number of Trips' columns as a stand-in for the total sum of the distance bins. This means that all of the trips are represented in that single column with a 0% difference"
   ]
  },
  {
   "cell_type": "code",
   "execution_count": null,
   "id": "9fe53168",
   "metadata": {},
   "outputs": [],
   "source": []
  }
 ],
 "metadata": {
  "kernelspec": {
   "display_name": ".venv",
   "language": "python",
   "name": "python3"
  },
  "language_info": {
   "codemirror_mode": {
    "name": "ipython",
    "version": 3
   },
   "file_extension": ".py",
   "mimetype": "text/x-python",
   "name": "python",
   "nbconvert_exporter": "python",
   "pygments_lexer": "ipython3",
   "version": "3.12.7"
  }
 },
 "nbformat": 4,
 "nbformat_minor": 5
}
