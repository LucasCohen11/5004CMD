{
 "cells": [
  {
   "cell_type": "code",
   "execution_count": 20,
   "id": "409f7876",
   "metadata": {},
   "outputs": [],
   "source": [
    "import pandas as pd"
   ]
  },
  {
   "cell_type": "code",
   "execution_count": 21,
   "id": "9b52a197",
   "metadata": {},
   "outputs": [],
   "source": [
    "df_trips_by_distance = pd.read_csv(r'../data/Trips_by_Distance.csv')"
   ]
  },
  {
   "cell_type": "markdown",
   "id": "071f3a08",
   "metadata": {},
   "source": [
    "## Analyzing the larger dataset"
   ]
  },
  {
   "cell_type": "markdown",
   "id": "38e18a7e",
   "metadata": {},
   "source": [
    "Verifying it was read correctly, print the first 5 elements"
   ]
  },
  {
   "cell_type": "code",
   "execution_count": 22,
   "id": "6104abd0",
   "metadata": {},
   "outputs": [
    {
     "data": {
      "application/vnd.microsoft.datawrangler.viewer.v0+json": {
       "columns": [
        {
         "name": "index",
         "rawType": "int64",
         "type": "integer"
        },
        {
         "name": "Level",
         "rawType": "object",
         "type": "string"
        },
        {
         "name": "Date",
         "rawType": "object",
         "type": "string"
        },
        {
         "name": "State FIPS",
         "rawType": "float64",
         "type": "float"
        },
        {
         "name": "State Postal Code",
         "rawType": "object",
         "type": "unknown"
        },
        {
         "name": "County FIPS",
         "rawType": "float64",
         "type": "float"
        },
        {
         "name": "County Name",
         "rawType": "object",
         "type": "unknown"
        },
        {
         "name": "Population Staying at Home",
         "rawType": "float64",
         "type": "float"
        },
        {
         "name": "Population Not Staying at Home",
         "rawType": "float64",
         "type": "float"
        },
        {
         "name": "Number of Trips",
         "rawType": "float64",
         "type": "float"
        },
        {
         "name": "Number of Trips <1",
         "rawType": "float64",
         "type": "float"
        },
        {
         "name": "Number of Trips 1-3",
         "rawType": "float64",
         "type": "float"
        },
        {
         "name": "Number of Trips 3-5",
         "rawType": "float64",
         "type": "float"
        },
        {
         "name": "Number of Trips 5-10",
         "rawType": "float64",
         "type": "float"
        },
        {
         "name": "Number of Trips 10-25",
         "rawType": "float64",
         "type": "float"
        },
        {
         "name": "Number of Trips 25-50",
         "rawType": "float64",
         "type": "float"
        },
        {
         "name": "Number of Trips 50-100",
         "rawType": "float64",
         "type": "float"
        },
        {
         "name": "Number of Trips 100-250",
         "rawType": "float64",
         "type": "float"
        },
        {
         "name": "Number of Trips 250-500",
         "rawType": "float64",
         "type": "float"
        },
        {
         "name": "Number of Trips >=500",
         "rawType": "float64",
         "type": "float"
        },
        {
         "name": "Row ID",
         "rawType": "object",
         "type": "string"
        },
        {
         "name": "Week",
         "rawType": "int64",
         "type": "integer"
        },
        {
         "name": "Month",
         "rawType": "int64",
         "type": "integer"
        }
       ],
       "conversionMethod": "pd.DataFrame",
       "ref": "17653a84-ba3c-4a99-8f94-6e6de21326f2",
       "rows": [
        [
         "0",
         "National",
         "1/1/2019",
         null,
         null,
         null,
         null,
         "77433867.0",
         "248733553.0",
         "897784368.0",
         "241667151.0",
         "234284795.0",
         "108078903.0",
         "129670778.0",
         "116904343.0",
         "40432062.0",
         "15686639.0",
         "7525563.0",
         "1806022.0",
         "1728112.0",
         "00-00000-20190101",
         "0",
         "1"
        ],
        [
         "1",
         "National",
         "1/2/2019",
         null,
         null,
         null,
         null,
         "61305201.0",
         "264862219.0",
         "1139452281.0",
         "291276735.0",
         "285887315.0",
         "138039296.0",
         "171637514.0",
         "167412698.0",
         "56148976.0",
         "17739183.0",
         "7817044.0",
         "1962301.0",
         "1531219.0",
         "00-00000-20190102",
         "0",
         "1"
        ],
        [
         "2",
         "National",
         "1/3/2019",
         null,
         null,
         null,
         null,
         "63050480.0",
         "263116940.0",
         "1162752684.0",
         "296375014.0",
         "290074425.0",
         "140771581.0",
         "175775410.0",
         "172027487.0",
         "57632422.0",
         "18366626.0",
         "8124548.0",
         "2038099.0",
         "1567072.0",
         "00-00000-20190103",
         "0",
         "1"
        ],
        [
         "3",
         "National",
         "1/4/2019",
         null,
         null,
         null,
         null,
         "61803652.0",
         "264363768.0",
         "1181953829.0",
         "293159631.0",
         "295643296.0",
         "145251819.0",
         "181324645.0",
         "176144493.0",
         "58761592.0",
         "19315785.0",
         "8687318.0",
         "2096065.0",
         "1569185.0",
         "00-00000-20190104",
         "0",
         "1"
        ],
        [
         "4",
         "National",
         "1/5/2019",
         null,
         null,
         null,
         null,
         "64389745.0",
         "261777675.0",
         "1180476620.0",
         "295459014.0",
         "304168709.0",
         "148540651.0",
         "180941769.0",
         "165239790.0",
         "54842134.0",
         "19363939.0",
         "8490791.0",
         "1991159.0",
         "1438664.0",
         "00-00000-20190105",
         "0",
         "1"
        ]
       ],
       "shape": {
        "columns": 22,
        "rows": 5
       }
      },
      "text/html": [
       "<div>\n",
       "<style scoped>\n",
       "    .dataframe tbody tr th:only-of-type {\n",
       "        vertical-align: middle;\n",
       "    }\n",
       "\n",
       "    .dataframe tbody tr th {\n",
       "        vertical-align: top;\n",
       "    }\n",
       "\n",
       "    .dataframe thead th {\n",
       "        text-align: right;\n",
       "    }\n",
       "</style>\n",
       "<table border=\"1\" class=\"dataframe\">\n",
       "  <thead>\n",
       "    <tr style=\"text-align: right;\">\n",
       "      <th></th>\n",
       "      <th>Level</th>\n",
       "      <th>Date</th>\n",
       "      <th>State FIPS</th>\n",
       "      <th>State Postal Code</th>\n",
       "      <th>County FIPS</th>\n",
       "      <th>County Name</th>\n",
       "      <th>Population Staying at Home</th>\n",
       "      <th>Population Not Staying at Home</th>\n",
       "      <th>Number of Trips</th>\n",
       "      <th>Number of Trips &lt;1</th>\n",
       "      <th>...</th>\n",
       "      <th>Number of Trips 5-10</th>\n",
       "      <th>Number of Trips 10-25</th>\n",
       "      <th>Number of Trips 25-50</th>\n",
       "      <th>Number of Trips 50-100</th>\n",
       "      <th>Number of Trips 100-250</th>\n",
       "      <th>Number of Trips 250-500</th>\n",
       "      <th>Number of Trips &gt;=500</th>\n",
       "      <th>Row ID</th>\n",
       "      <th>Week</th>\n",
       "      <th>Month</th>\n",
       "    </tr>\n",
       "  </thead>\n",
       "  <tbody>\n",
       "    <tr>\n",
       "      <th>0</th>\n",
       "      <td>National</td>\n",
       "      <td>1/1/2019</td>\n",
       "      <td>NaN</td>\n",
       "      <td>NaN</td>\n",
       "      <td>NaN</td>\n",
       "      <td>NaN</td>\n",
       "      <td>77433867.0</td>\n",
       "      <td>248733553.0</td>\n",
       "      <td>8.977844e+08</td>\n",
       "      <td>241667151.0</td>\n",
       "      <td>...</td>\n",
       "      <td>129670778.0</td>\n",
       "      <td>116904343.0</td>\n",
       "      <td>40432062.0</td>\n",
       "      <td>15686639.0</td>\n",
       "      <td>7525563.0</td>\n",
       "      <td>1806022.0</td>\n",
       "      <td>1728112.0</td>\n",
       "      <td>00-00000-20190101</td>\n",
       "      <td>0</td>\n",
       "      <td>1</td>\n",
       "    </tr>\n",
       "    <tr>\n",
       "      <th>1</th>\n",
       "      <td>National</td>\n",
       "      <td>1/2/2019</td>\n",
       "      <td>NaN</td>\n",
       "      <td>NaN</td>\n",
       "      <td>NaN</td>\n",
       "      <td>NaN</td>\n",
       "      <td>61305201.0</td>\n",
       "      <td>264862219.0</td>\n",
       "      <td>1.139452e+09</td>\n",
       "      <td>291276735.0</td>\n",
       "      <td>...</td>\n",
       "      <td>171637514.0</td>\n",
       "      <td>167412698.0</td>\n",
       "      <td>56148976.0</td>\n",
       "      <td>17739183.0</td>\n",
       "      <td>7817044.0</td>\n",
       "      <td>1962301.0</td>\n",
       "      <td>1531219.0</td>\n",
       "      <td>00-00000-20190102</td>\n",
       "      <td>0</td>\n",
       "      <td>1</td>\n",
       "    </tr>\n",
       "    <tr>\n",
       "      <th>2</th>\n",
       "      <td>National</td>\n",
       "      <td>1/3/2019</td>\n",
       "      <td>NaN</td>\n",
       "      <td>NaN</td>\n",
       "      <td>NaN</td>\n",
       "      <td>NaN</td>\n",
       "      <td>63050480.0</td>\n",
       "      <td>263116940.0</td>\n",
       "      <td>1.162753e+09</td>\n",
       "      <td>296375014.0</td>\n",
       "      <td>...</td>\n",
       "      <td>175775410.0</td>\n",
       "      <td>172027487.0</td>\n",
       "      <td>57632422.0</td>\n",
       "      <td>18366626.0</td>\n",
       "      <td>8124548.0</td>\n",
       "      <td>2038099.0</td>\n",
       "      <td>1567072.0</td>\n",
       "      <td>00-00000-20190103</td>\n",
       "      <td>0</td>\n",
       "      <td>1</td>\n",
       "    </tr>\n",
       "    <tr>\n",
       "      <th>3</th>\n",
       "      <td>National</td>\n",
       "      <td>1/4/2019</td>\n",
       "      <td>NaN</td>\n",
       "      <td>NaN</td>\n",
       "      <td>NaN</td>\n",
       "      <td>NaN</td>\n",
       "      <td>61803652.0</td>\n",
       "      <td>264363768.0</td>\n",
       "      <td>1.181954e+09</td>\n",
       "      <td>293159631.0</td>\n",
       "      <td>...</td>\n",
       "      <td>181324645.0</td>\n",
       "      <td>176144493.0</td>\n",
       "      <td>58761592.0</td>\n",
       "      <td>19315785.0</td>\n",
       "      <td>8687318.0</td>\n",
       "      <td>2096065.0</td>\n",
       "      <td>1569185.0</td>\n",
       "      <td>00-00000-20190104</td>\n",
       "      <td>0</td>\n",
       "      <td>1</td>\n",
       "    </tr>\n",
       "    <tr>\n",
       "      <th>4</th>\n",
       "      <td>National</td>\n",
       "      <td>1/5/2019</td>\n",
       "      <td>NaN</td>\n",
       "      <td>NaN</td>\n",
       "      <td>NaN</td>\n",
       "      <td>NaN</td>\n",
       "      <td>64389745.0</td>\n",
       "      <td>261777675.0</td>\n",
       "      <td>1.180477e+09</td>\n",
       "      <td>295459014.0</td>\n",
       "      <td>...</td>\n",
       "      <td>180941769.0</td>\n",
       "      <td>165239790.0</td>\n",
       "      <td>54842134.0</td>\n",
       "      <td>19363939.0</td>\n",
       "      <td>8490791.0</td>\n",
       "      <td>1991159.0</td>\n",
       "      <td>1438664.0</td>\n",
       "      <td>00-00000-20190105</td>\n",
       "      <td>0</td>\n",
       "      <td>1</td>\n",
       "    </tr>\n",
       "  </tbody>\n",
       "</table>\n",
       "<p>5 rows × 22 columns</p>\n",
       "</div>"
      ],
      "text/plain": [
       "      Level      Date  State FIPS State Postal Code  County FIPS County Name  \\\n",
       "0  National  1/1/2019         NaN               NaN          NaN         NaN   \n",
       "1  National  1/2/2019         NaN               NaN          NaN         NaN   \n",
       "2  National  1/3/2019         NaN               NaN          NaN         NaN   \n",
       "3  National  1/4/2019         NaN               NaN          NaN         NaN   \n",
       "4  National  1/5/2019         NaN               NaN          NaN         NaN   \n",
       "\n",
       "   Population Staying at Home  Population Not Staying at Home  \\\n",
       "0                  77433867.0                     248733553.0   \n",
       "1                  61305201.0                     264862219.0   \n",
       "2                  63050480.0                     263116940.0   \n",
       "3                  61803652.0                     264363768.0   \n",
       "4                  64389745.0                     261777675.0   \n",
       "\n",
       "   Number of Trips  Number of Trips <1  ...  Number of Trips 5-10  \\\n",
       "0     8.977844e+08         241667151.0  ...           129670778.0   \n",
       "1     1.139452e+09         291276735.0  ...           171637514.0   \n",
       "2     1.162753e+09         296375014.0  ...           175775410.0   \n",
       "3     1.181954e+09         293159631.0  ...           181324645.0   \n",
       "4     1.180477e+09         295459014.0  ...           180941769.0   \n",
       "\n",
       "   Number of Trips 10-25  Number of Trips 25-50  Number of Trips 50-100  \\\n",
       "0            116904343.0             40432062.0              15686639.0   \n",
       "1            167412698.0             56148976.0              17739183.0   \n",
       "2            172027487.0             57632422.0              18366626.0   \n",
       "3            176144493.0             58761592.0              19315785.0   \n",
       "4            165239790.0             54842134.0              19363939.0   \n",
       "\n",
       "   Number of Trips 100-250  Number of Trips 250-500  Number of Trips >=500  \\\n",
       "0                7525563.0                1806022.0              1728112.0   \n",
       "1                7817044.0                1962301.0              1531219.0   \n",
       "2                8124548.0                2038099.0              1567072.0   \n",
       "3                8687318.0                2096065.0              1569185.0   \n",
       "4                8490791.0                1991159.0              1438664.0   \n",
       "\n",
       "              Row ID  Week Month  \n",
       "0  00-00000-20190101     0     1  \n",
       "1  00-00000-20190102     0     1  \n",
       "2  00-00000-20190103     0     1  \n",
       "3  00-00000-20190104     0     1  \n",
       "4  00-00000-20190105     0     1  \n",
       "\n",
       "[5 rows x 22 columns]"
      ]
     },
     "execution_count": 22,
     "metadata": {},
     "output_type": "execute_result"
    }
   ],
   "source": [
    "df_trips_by_distance.head(5)"
   ]
  },
  {
   "cell_type": "markdown",
   "id": "5e2774a5",
   "metadata": {},
   "source": [
    "Checking the size of the dataframe"
   ]
  },
  {
   "cell_type": "code",
   "execution_count": 23,
   "id": "eca8d7cb",
   "metadata": {},
   "outputs": [
    {
     "data": {
      "text/plain": [
       "(1048575, 22)"
      ]
     },
     "execution_count": 23,
     "metadata": {},
     "output_type": "execute_result"
    }
   ],
   "source": [
    "df_trips_by_distance.shape"
   ]
  },
  {
   "cell_type": "markdown",
   "id": "a6e1fa17",
   "metadata": {},
   "source": [
    "Checking for null values"
   ]
  },
  {
   "cell_type": "code",
   "execution_count": 24,
   "id": "d8523df1",
   "metadata": {},
   "outputs": [
    {
     "data": {
      "text/plain": [
       "Level                                 0\n",
       "Date                                  0\n",
       "State FIPS                          901\n",
       "State Postal Code                   901\n",
       "County FIPS                       46852\n",
       "County Name                       46852\n",
       "Population Staying at Home        12950\n",
       "Population Not Staying at Home    12950\n",
       "Number of Trips                   12950\n",
       "Number of Trips <1                12950\n",
       "Number of Trips 1-3               12950\n",
       "Number of Trips 3-5               12950\n",
       "Number of Trips 5-10              12950\n",
       "Number of Trips 10-25             12950\n",
       "Number of Trips 25-50             12950\n",
       "Number of Trips 50-100            12950\n",
       "Number of Trips 100-250           12950\n",
       "Number of Trips 250-500           12950\n",
       "Number of Trips >=500             12950\n",
       "Row ID                                0\n",
       "Week                                  0\n",
       "Month                                 0\n",
       "dtype: int64"
      ]
     },
     "execution_count": 24,
     "metadata": {},
     "output_type": "execute_result"
    }
   ],
   "source": [
    "df_trips_by_distance.isna().sum()"
   ]
  },
  {
   "cell_type": "markdown",
   "id": "5651f81f",
   "metadata": {},
   "source": [
    "Checking possible 'Level' values"
   ]
  },
  {
   "cell_type": "code",
   "execution_count": 25,
   "id": "82219421",
   "metadata": {},
   "outputs": [
    {
     "data": {
      "text/plain": [
       "array(['National', 'State', 'County'], dtype=object)"
      ]
     },
     "execution_count": 25,
     "metadata": {},
     "output_type": "execute_result"
    }
   ],
   "source": [
    "df_trips_by_distance['Level'].unique()"
   ]
  },
  {
   "cell_type": "code",
   "execution_count": 26,
   "id": "b9bb3a99",
   "metadata": {},
   "outputs": [
    {
     "data": {
      "text/plain": [
       "Level\n",
       "County      1001723\n",
       "National        901\n",
       "State         45951\n",
       "dtype: int64"
      ]
     },
     "execution_count": 26,
     "metadata": {},
     "output_type": "execute_result"
    }
   ],
   "source": [
    "df_trips_by_distance.groupby(by='Level').size()"
   ]
  },
  {
   "cell_type": "markdown",
   "id": "b7570715",
   "metadata": {},
   "source": [
    "<hr>"
   ]
  },
  {
   "cell_type": "markdown",
   "id": "8ef31384",
   "metadata": {},
   "source": [
    "Now for \"Trips_Full Data.csv\""
   ]
  },
  {
   "cell_type": "code",
   "execution_count": 27,
   "id": "afc19d08",
   "metadata": {},
   "outputs": [],
   "source": [
    "df_trips_full_data = pd.read_csv(r'../data/Trips_Full Data.csv')"
   ]
  },
  {
   "cell_type": "code",
   "execution_count": 54,
   "id": "210aa975",
   "metadata": {},
   "outputs": [
    {
     "data": {
      "application/vnd.microsoft.datawrangler.viewer.v0+json": {
       "columns": [
        {
         "name": "index",
         "rawType": "int64",
         "type": "integer"
        },
        {
         "name": "Month of Date",
         "rawType": "object",
         "type": "string"
        },
        {
         "name": "Week of Date",
         "rawType": "object",
         "type": "string"
        },
        {
         "name": "Year of Date",
         "rawType": "int64",
         "type": "integer"
        },
        {
         "name": "Level",
         "rawType": "object",
         "type": "string"
        },
        {
         "name": "Date",
         "rawType": "object",
         "type": "string"
        },
        {
         "name": "Week Ending Date",
         "rawType": "object",
         "type": "string"
        },
        {
         "name": "Trips <1 Mile",
         "rawType": "int64",
         "type": "integer"
        },
        {
         "name": "People Not Staying at Home",
         "rawType": "int64",
         "type": "integer"
        },
        {
         "name": "Population Staying at Home",
         "rawType": "int64",
         "type": "integer"
        },
        {
         "name": "Trips",
         "rawType": "int64",
         "type": "integer"
        },
        {
         "name": "Trips 1-25 Miles",
         "rawType": "int64",
         "type": "integer"
        },
        {
         "name": "Trips 1-3 Miles",
         "rawType": "int64",
         "type": "integer"
        },
        {
         "name": "Trips 10-25 Miles",
         "rawType": "int64",
         "type": "integer"
        },
        {
         "name": "Trips 100-250 Miles",
         "rawType": "int64",
         "type": "integer"
        },
        {
         "name": "Trips 100+ Miles",
         "rawType": "int64",
         "type": "integer"
        },
        {
         "name": "Trips 25-100 Miles",
         "rawType": "int64",
         "type": "integer"
        },
        {
         "name": "Trips 25-50 Miles",
         "rawType": "int64",
         "type": "integer"
        },
        {
         "name": "Trips 250-500 Miles",
         "rawType": "int64",
         "type": "integer"
        },
        {
         "name": "Trips 3-5 Miles",
         "rawType": "int64",
         "type": "integer"
        },
        {
         "name": "Trips 5-10 Miles",
         "rawType": "int64",
         "type": "integer"
        },
        {
         "name": "Trips 50-100 Miles",
         "rawType": "int64",
         "type": "integer"
        },
        {
         "name": "Trips 500+ Miles",
         "rawType": "int64",
         "type": "integer"
        }
       ],
       "conversionMethod": "pd.DataFrame",
       "ref": "e133ffb7-5e60-4dc0-b2a3-1b0912d73b7a",
       "rows": [
        [
         "0",
         "August",
         "Week 32",
         "2019",
         "National",
         "8/4/2019 0:00",
         "10-Aug-19",
         "292959749",
         "258404133",
         "67763287",
         "1322685497",
         "934957837",
         "346577279",
         "200922270",
         "8595827",
         "15338786",
         "79429125",
         "59517188",
         "2273613",
         "171336406",
         "216121882",
         "19911937",
         "4469346"
        ],
        [
         "1",
         "August",
         "Week 32",
         "2019",
         "National",
         "8/5/2019 0:00",
         "10-Aug-19",
         "317133861",
         "262199758",
         "63967662",
         "1412564488",
         "996863262",
         "358008909",
         "228809869",
         "6535920",
         "12563068",
         "86004297",
         "68184743",
         "1941260",
         "178996059",
         "231048425",
         "17819554",
         "4085888"
        ],
        [
         "2",
         "August",
         "Week 32",
         "2019",
         "National",
         "8/6/2019 0:00",
         "10-Aug-19",
         "324443205",
         "260096133",
         "66071287",
         "1437762102",
         "1014614495",
         "366533991",
         "235621127",
         "5993704",
         "11104823",
         "87599579",
         "70149166",
         "1741994",
         "179210645",
         "233248732",
         "17450413",
         "3369125"
        ],
        [
         "3",
         "August",
         "Week 32",
         "2019",
         "National",
         "8/7/2019 0:00",
         "10-Aug-19",
         "358483024",
         "258878802",
         "67288618",
         "1543710309",
         "1084498325",
         "401474049",
         "249988663",
         "5379881",
         "8528574",
         "92200386",
         "74381367",
         "1272248",
         "189163336",
         "243872277",
         "17819019",
         "1876445"
        ],
        [
         "4",
         "August",
         "Week 32",
         "2019",
         "National",
         "8/8/2019 0:00",
         "10-Aug-19",
         "300765870",
         "262410045",
         "63757375",
         "1382044815",
         "984193010",
         "347857770",
         "226055368",
         "6259735",
         "12892348",
         "84193587",
         "66724543",
         "1957888",
         "179346163",
         "230933709",
         "17469044",
         "4674725"
        ],
        [
         "5",
         "August",
         "Week 32",
         "2019",
         "National",
         "8/9/2019 0:00",
         "10-Aug-19",
         "341515854",
         "272101417",
         "54066003",
         "1501571863",
         "1052793819",
         "378936486",
         "245571995",
         "7635743",
         "12256537",
         "95005653",
         "74512584",
         "1823661",
         "186257669",
         "242027669",
         "20493069",
         "2797133"
        ],
        [
         "6",
         "August",
         "Week 32",
         "2019",
         "National",
         "8/10/2019 0:00",
         "10-Aug-19",
         "346532975",
         "267638064",
         "58529356",
         "1491503216",
         "1040967509",
         "386948113",
         "230580285",
         "7550100",
         "12173176",
         "91829556",
         "70644329",
         "1794030",
         "186580557",
         "236858554",
         "21185227",
         "2829046"
        ]
       ],
       "shape": {
        "columns": 22,
        "rows": 7
       }
      },
      "text/html": [
       "<div>\n",
       "<style scoped>\n",
       "    .dataframe tbody tr th:only-of-type {\n",
       "        vertical-align: middle;\n",
       "    }\n",
       "\n",
       "    .dataframe tbody tr th {\n",
       "        vertical-align: top;\n",
       "    }\n",
       "\n",
       "    .dataframe thead th {\n",
       "        text-align: right;\n",
       "    }\n",
       "</style>\n",
       "<table border=\"1\" class=\"dataframe\">\n",
       "  <thead>\n",
       "    <tr style=\"text-align: right;\">\n",
       "      <th></th>\n",
       "      <th>Month of Date</th>\n",
       "      <th>Week of Date</th>\n",
       "      <th>Year of Date</th>\n",
       "      <th>Level</th>\n",
       "      <th>Date</th>\n",
       "      <th>Week Ending Date</th>\n",
       "      <th>Trips &lt;1 Mile</th>\n",
       "      <th>People Not Staying at Home</th>\n",
       "      <th>Population Staying at Home</th>\n",
       "      <th>Trips</th>\n",
       "      <th>...</th>\n",
       "      <th>Trips 10-25 Miles</th>\n",
       "      <th>Trips 100-250 Miles</th>\n",
       "      <th>Trips 100+ Miles</th>\n",
       "      <th>Trips 25-100 Miles</th>\n",
       "      <th>Trips 25-50 Miles</th>\n",
       "      <th>Trips 250-500 Miles</th>\n",
       "      <th>Trips 3-5 Miles</th>\n",
       "      <th>Trips 5-10 Miles</th>\n",
       "      <th>Trips 50-100 Miles</th>\n",
       "      <th>Trips 500+ Miles</th>\n",
       "    </tr>\n",
       "  </thead>\n",
       "  <tbody>\n",
       "    <tr>\n",
       "      <th>0</th>\n",
       "      <td>August</td>\n",
       "      <td>Week 32</td>\n",
       "      <td>2019</td>\n",
       "      <td>National</td>\n",
       "      <td>8/4/2019 0:00</td>\n",
       "      <td>10-Aug-19</td>\n",
       "      <td>292959749</td>\n",
       "      <td>258404133</td>\n",
       "      <td>67763287</td>\n",
       "      <td>1322685497</td>\n",
       "      <td>...</td>\n",
       "      <td>200922270</td>\n",
       "      <td>8595827</td>\n",
       "      <td>15338786</td>\n",
       "      <td>79429125</td>\n",
       "      <td>59517188</td>\n",
       "      <td>2273613</td>\n",
       "      <td>171336406</td>\n",
       "      <td>216121882</td>\n",
       "      <td>19911937</td>\n",
       "      <td>4469346</td>\n",
       "    </tr>\n",
       "    <tr>\n",
       "      <th>1</th>\n",
       "      <td>August</td>\n",
       "      <td>Week 32</td>\n",
       "      <td>2019</td>\n",
       "      <td>National</td>\n",
       "      <td>8/5/2019 0:00</td>\n",
       "      <td>10-Aug-19</td>\n",
       "      <td>317133861</td>\n",
       "      <td>262199758</td>\n",
       "      <td>63967662</td>\n",
       "      <td>1412564488</td>\n",
       "      <td>...</td>\n",
       "      <td>228809869</td>\n",
       "      <td>6535920</td>\n",
       "      <td>12563068</td>\n",
       "      <td>86004297</td>\n",
       "      <td>68184743</td>\n",
       "      <td>1941260</td>\n",
       "      <td>178996059</td>\n",
       "      <td>231048425</td>\n",
       "      <td>17819554</td>\n",
       "      <td>4085888</td>\n",
       "    </tr>\n",
       "    <tr>\n",
       "      <th>2</th>\n",
       "      <td>August</td>\n",
       "      <td>Week 32</td>\n",
       "      <td>2019</td>\n",
       "      <td>National</td>\n",
       "      <td>8/6/2019 0:00</td>\n",
       "      <td>10-Aug-19</td>\n",
       "      <td>324443205</td>\n",
       "      <td>260096133</td>\n",
       "      <td>66071287</td>\n",
       "      <td>1437762102</td>\n",
       "      <td>...</td>\n",
       "      <td>235621127</td>\n",
       "      <td>5993704</td>\n",
       "      <td>11104823</td>\n",
       "      <td>87599579</td>\n",
       "      <td>70149166</td>\n",
       "      <td>1741994</td>\n",
       "      <td>179210645</td>\n",
       "      <td>233248732</td>\n",
       "      <td>17450413</td>\n",
       "      <td>3369125</td>\n",
       "    </tr>\n",
       "    <tr>\n",
       "      <th>3</th>\n",
       "      <td>August</td>\n",
       "      <td>Week 32</td>\n",
       "      <td>2019</td>\n",
       "      <td>National</td>\n",
       "      <td>8/7/2019 0:00</td>\n",
       "      <td>10-Aug-19</td>\n",
       "      <td>358483024</td>\n",
       "      <td>258878802</td>\n",
       "      <td>67288618</td>\n",
       "      <td>1543710309</td>\n",
       "      <td>...</td>\n",
       "      <td>249988663</td>\n",
       "      <td>5379881</td>\n",
       "      <td>8528574</td>\n",
       "      <td>92200386</td>\n",
       "      <td>74381367</td>\n",
       "      <td>1272248</td>\n",
       "      <td>189163336</td>\n",
       "      <td>243872277</td>\n",
       "      <td>17819019</td>\n",
       "      <td>1876445</td>\n",
       "    </tr>\n",
       "    <tr>\n",
       "      <th>4</th>\n",
       "      <td>August</td>\n",
       "      <td>Week 32</td>\n",
       "      <td>2019</td>\n",
       "      <td>National</td>\n",
       "      <td>8/8/2019 0:00</td>\n",
       "      <td>10-Aug-19</td>\n",
       "      <td>300765870</td>\n",
       "      <td>262410045</td>\n",
       "      <td>63757375</td>\n",
       "      <td>1382044815</td>\n",
       "      <td>...</td>\n",
       "      <td>226055368</td>\n",
       "      <td>6259735</td>\n",
       "      <td>12892348</td>\n",
       "      <td>84193587</td>\n",
       "      <td>66724543</td>\n",
       "      <td>1957888</td>\n",
       "      <td>179346163</td>\n",
       "      <td>230933709</td>\n",
       "      <td>17469044</td>\n",
       "      <td>4674725</td>\n",
       "    </tr>\n",
       "    <tr>\n",
       "      <th>5</th>\n",
       "      <td>August</td>\n",
       "      <td>Week 32</td>\n",
       "      <td>2019</td>\n",
       "      <td>National</td>\n",
       "      <td>8/9/2019 0:00</td>\n",
       "      <td>10-Aug-19</td>\n",
       "      <td>341515854</td>\n",
       "      <td>272101417</td>\n",
       "      <td>54066003</td>\n",
       "      <td>1501571863</td>\n",
       "      <td>...</td>\n",
       "      <td>245571995</td>\n",
       "      <td>7635743</td>\n",
       "      <td>12256537</td>\n",
       "      <td>95005653</td>\n",
       "      <td>74512584</td>\n",
       "      <td>1823661</td>\n",
       "      <td>186257669</td>\n",
       "      <td>242027669</td>\n",
       "      <td>20493069</td>\n",
       "      <td>2797133</td>\n",
       "    </tr>\n",
       "    <tr>\n",
       "      <th>6</th>\n",
       "      <td>August</td>\n",
       "      <td>Week 32</td>\n",
       "      <td>2019</td>\n",
       "      <td>National</td>\n",
       "      <td>8/10/2019 0:00</td>\n",
       "      <td>10-Aug-19</td>\n",
       "      <td>346532975</td>\n",
       "      <td>267638064</td>\n",
       "      <td>58529356</td>\n",
       "      <td>1491503216</td>\n",
       "      <td>...</td>\n",
       "      <td>230580285</td>\n",
       "      <td>7550100</td>\n",
       "      <td>12173176</td>\n",
       "      <td>91829556</td>\n",
       "      <td>70644329</td>\n",
       "      <td>1794030</td>\n",
       "      <td>186580557</td>\n",
       "      <td>236858554</td>\n",
       "      <td>21185227</td>\n",
       "      <td>2829046</td>\n",
       "    </tr>\n",
       "  </tbody>\n",
       "</table>\n",
       "<p>7 rows × 22 columns</p>\n",
       "</div>"
      ],
      "text/plain": [
       "  Month of Date Week of Date  Year of Date     Level            Date  \\\n",
       "0        August      Week 32          2019  National   8/4/2019 0:00   \n",
       "1        August      Week 32          2019  National   8/5/2019 0:00   \n",
       "2        August      Week 32          2019  National   8/6/2019 0:00   \n",
       "3        August      Week 32          2019  National   8/7/2019 0:00   \n",
       "4        August      Week 32          2019  National   8/8/2019 0:00   \n",
       "5        August      Week 32          2019  National   8/9/2019 0:00   \n",
       "6        August      Week 32          2019  National  8/10/2019 0:00   \n",
       "\n",
       "  Week Ending Date  Trips <1 Mile  People Not Staying at Home  \\\n",
       "0        10-Aug-19      292959749                   258404133   \n",
       "1        10-Aug-19      317133861                   262199758   \n",
       "2        10-Aug-19      324443205                   260096133   \n",
       "3        10-Aug-19      358483024                   258878802   \n",
       "4        10-Aug-19      300765870                   262410045   \n",
       "5        10-Aug-19      341515854                   272101417   \n",
       "6        10-Aug-19      346532975                   267638064   \n",
       "\n",
       "   Population Staying at Home       Trips  ...  Trips 10-25 Miles  \\\n",
       "0                    67763287  1322685497  ...          200922270   \n",
       "1                    63967662  1412564488  ...          228809869   \n",
       "2                    66071287  1437762102  ...          235621127   \n",
       "3                    67288618  1543710309  ...          249988663   \n",
       "4                    63757375  1382044815  ...          226055368   \n",
       "5                    54066003  1501571863  ...          245571995   \n",
       "6                    58529356  1491503216  ...          230580285   \n",
       "\n",
       "   Trips 100-250 Miles  Trips 100+ Miles  Trips 25-100 Miles  \\\n",
       "0              8595827          15338786            79429125   \n",
       "1              6535920          12563068            86004297   \n",
       "2              5993704          11104823            87599579   \n",
       "3              5379881           8528574            92200386   \n",
       "4              6259735          12892348            84193587   \n",
       "5              7635743          12256537            95005653   \n",
       "6              7550100          12173176            91829556   \n",
       "\n",
       "   Trips 25-50 Miles  Trips 250-500 Miles  Trips 3-5 Miles  Trips 5-10 Miles  \\\n",
       "0           59517188              2273613        171336406         216121882   \n",
       "1           68184743              1941260        178996059         231048425   \n",
       "2           70149166              1741994        179210645         233248732   \n",
       "3           74381367              1272248        189163336         243872277   \n",
       "4           66724543              1957888        179346163         230933709   \n",
       "5           74512584              1823661        186257669         242027669   \n",
       "6           70644329              1794030        186580557         236858554   \n",
       "\n",
       "   Trips 50-100 Miles  Trips 500+ Miles  \n",
       "0            19911937           4469346  \n",
       "1            17819554           4085888  \n",
       "2            17450413           3369125  \n",
       "3            17819019           1876445  \n",
       "4            17469044           4674725  \n",
       "5            20493069           2797133  \n",
       "6            21185227           2829046  \n",
       "\n",
       "[7 rows x 22 columns]"
      ]
     },
     "execution_count": 54,
     "metadata": {},
     "output_type": "execute_result"
    }
   ],
   "source": [
    "df_trips_full_data.head(10)"
   ]
  },
  {
   "cell_type": "code",
   "execution_count": 29,
   "id": "b2b83638",
   "metadata": {},
   "outputs": [
    {
     "data": {
      "text/plain": [
       "(7, 22)"
      ]
     },
     "execution_count": 29,
     "metadata": {},
     "output_type": "execute_result"
    }
   ],
   "source": [
    "df_trips_full_data.shape"
   ]
  },
  {
   "cell_type": "code",
   "execution_count": 30,
   "id": "39cf1bbe",
   "metadata": {},
   "outputs": [
    {
     "data": {
      "text/plain": [
       "Index(['Month of Date', 'Week of Date', 'Year of Date', 'Level', 'Date',\n",
       "       'Week Ending Date', 'Trips <1 Mile', 'People Not Staying at Home',\n",
       "       'Population Staying at Home', 'Trips', 'Trips 1-25 Miles',\n",
       "       'Trips 1-3 Miles', 'Trips 10-25 Miles', 'Trips 100-250 Miles',\n",
       "       'Trips 100+ Miles', 'Trips 25-100 Miles', 'Trips 25-50 Miles',\n",
       "       'Trips 250-500 Miles', 'Trips 3-5 Miles', 'Trips 5-10 Miles',\n",
       "       'Trips 50-100 Miles', 'Trips 500+ Miles'],\n",
       "      dtype='object')"
      ]
     },
     "execution_count": 30,
     "metadata": {},
     "output_type": "execute_result"
    }
   ],
   "source": [
    "df_trips_full_data.columns"
   ]
  },
  {
   "cell_type": "markdown",
   "id": "d3a7f637",
   "metadata": {},
   "source": [
    "If we compare this to the other dataset's columns, we get:"
   ]
  },
  {
   "cell_type": "code",
   "execution_count": 31,
   "id": "a276029a",
   "metadata": {},
   "outputs": [
    {
     "data": {
      "text/plain": [
       "Index(['Level', 'Date', 'State FIPS', 'State Postal Code', 'County FIPS',\n",
       "       'County Name', 'Population Staying at Home',\n",
       "       'Population Not Staying at Home', 'Number of Trips',\n",
       "       'Number of Trips <1', 'Number of Trips 1-3', 'Number of Trips 3-5',\n",
       "       'Number of Trips 5-10', 'Number of Trips 10-25',\n",
       "       'Number of Trips 25-50', 'Number of Trips 50-100',\n",
       "       'Number of Trips 100-250', 'Number of Trips 250-500',\n",
       "       'Number of Trips >=500', 'Row ID', 'Week', 'Month'],\n",
       "      dtype='object')"
      ]
     },
     "execution_count": 31,
     "metadata": {},
     "output_type": "execute_result"
    }
   ],
   "source": [
    "df_trips_by_distance.columns"
   ]
  },
  {
   "cell_type": "markdown",
   "id": "97824b66",
   "metadata": {},
   "source": [
    "More specifically, we want the ranges for the trips"
   ]
  },
  {
   "cell_type": "code",
   "execution_count": 32,
   "id": "6b3a8737",
   "metadata": {},
   "outputs": [],
   "source": [
    "def parse_ranges_to_dict(ranges):\n",
    "    range_dict = {}\n",
    "    for r in ranges:\n",
    "        if '<' in r:\n",
    "            start = 0\n",
    "            end = float(r.split('<')[-1])\n",
    "        elif '>=' in r:\n",
    "            start = float(r.split('>=')[-1])\n",
    "            end = start*2\n",
    "        elif '-' in r:\n",
    "            start, end = map(float, r.split('-'))\n",
    "        else:\n",
    "            raise ValueError(f\"Invalid range format: {r}\")\n",
    "        range_dict[r] = (start, end)\n",
    "    return range_dict\n"
   ]
  },
  {
   "cell_type": "code",
   "execution_count": 47,
   "id": "961b7a21",
   "metadata": {},
   "outputs": [],
   "source": [
    "def parse_ranges_to_dict_small(ranges):\n",
    "    range_dict = {}\n",
    "    for r in ranges:\n",
    "        if '<' in r:\n",
    "            start = 0\n",
    "            end = float(r.split('<')[-1])\n",
    "        elif '+' in r:\n",
    "            start = float(r.split('+')[0])\n",
    "            end = 1000\n",
    "        elif '-' in r:\n",
    "            start, end = map(float, r.split('-'))\n",
    "        else:\n",
    "            raise ValueError(f\"Invalid range format: {r}\")\n",
    "        range_dict[r] = (start, end)\n",
    "    return range_dict\n"
   ]
  },
  {
   "cell_type": "code",
   "execution_count": null,
   "id": "429ef44a",
   "metadata": {},
   "outputs": [],
   "source": [
    "\n",
    "large_df_ranges = sorted(parse_ranges_to_dict([x.split(' ')[-1] for x in [y for y in df_trips_by_distance if 'Trips ' in y]]).values())\n",
    "small_df_ranges = sorted(parse_ranges_to_dict_small([x.split(' ')[-2] for x in [y for y in df_trips_full_data if 'Trips ' in y]]).values())"
   ]
  },
  {
   "cell_type": "code",
   "execution_count": 52,
   "id": "86ce27f8",
   "metadata": {},
   "outputs": [],
   "source": [
    "import matplotlib.pyplot as plt"
   ]
  },
  {
   "cell_type": "code",
   "execution_count": 57,
   "id": "cdfd08e5",
   "metadata": {},
   "outputs": [
    {
     "data": {
      "image/png": "[encoded data removed]",
      "text/plain": [
       "<Figure size 1000x500 with 1 Axes>"
      ]
     },
     "metadata": {},
     "output_type": "display_data"
    }
   ],
   "source": [
    "\n",
    "# Prepare data for broken_barh: (start, width)\n",
    "bar_data = [(start, end - start) for start, end in large_df_ranges]\n",
    "\n",
    "fig, ax = plt.subplots(figsize=(10, 5))\n",
    "\n",
    "for i, (start, width) in enumerate(bar_data):\n",
    "    ax.broken_barh([(start, width)], (i - 0.4, 0.8), facecolors='skyblue', edgecolors='black')\n",
    "\n",
    "\n",
    "ax.set_yticks(range(len(large_df_ranges)))\n",
    "ax.set_yticklabels([f\"{start}-{end}\" for start, end in large_df_ranges])\n",
    "\n",
    "\n",
    "ax.set_xlabel(\"Miles\")\n",
    "ax.set_title(\"Bin sizes for travel distance (Trips_by_Distance.csv)\")\n",
    "\n",
    "ax.grid(True, axis='x', linestyle='--', alpha=0.7)\n",
    "ax.set_xlim(0, 1050)\n",
    "\n",
    "plt.tight_layout()\n",
    "plt.show()\n"
   ]
  },
  {
   "cell_type": "code",
   "execution_count": 58,
   "id": "73377bdf",
   "metadata": {},
   "outputs": [
    {
     "data": {
      "image/png": "[encoded data removed]",
      "text/plain": [
       "<Figure size 1000x500 with 1 Axes>"
      ]
     },
     "metadata": {},
     "output_type": "display_data"
    }
   ],
   "source": [
    "\n",
    "# Prepare data for broken_barh: (start, width)\n",
    "bar_data = [(start, end - start) for start, end in small_df_ranges]\n",
    "\n",
    "fig, ax = plt.subplots(figsize=(10, 5))\n",
    "\n",
    "for i, (start, width) in enumerate(bar_data):\n",
    "    ax.broken_barh([(start, width)], (i - 0.4, 0.8), facecolors='orange', edgecolors='black')\n",
    "\n",
    "\n",
    "ax.set_yticks(range(len(small_df_ranges)))\n",
    "ax.set_yticklabels([f\"{start}-{end}\" for start, end in small_df_ranges])\n",
    "\n",
    "\n",
    "ax.set_xlabel(\"Miles\")\n",
    "ax.set_title(\"Bin sizes for travel distance (Trips_Full Data.csv)\")\n",
    "\n",
    "ax.grid(True, axis='x', linestyle='--', alpha=0.7)\n",
    "ax.set_xlim(0, 1050)\n",
    "\n",
    "plt.tight_layout()\n",
    "plt.show()\n"
   ]
  },
  {
   "cell_type": "code",
   "execution_count": null,
   "id": "6ba0b5f4",
   "metadata": {},
   "outputs": [],
   "source": []
  }
 ],
 "metadata": {
  "kernelspec": {
   "display_name": ".venv",
   "language": "python",
   "name": "python3"
  },
  "language_info": {
   "codemirror_mode": {
    "name": "ipython",
    "version": 3
   },
   "file_extension": ".py",
   "mimetype": "text/x-python",
   "name": "python",
   "nbconvert_exporter": "python",
   "pygments_lexer": "ipython3",
   "version": "3.12.7"
  }
 },
 "nbformat": 4,
 "nbformat_minor": 5
}
