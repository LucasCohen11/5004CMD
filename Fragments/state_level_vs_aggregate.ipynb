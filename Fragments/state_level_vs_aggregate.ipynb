{
 "cells": [
  {
   "cell_type": "markdown",
   "metadata": {},
   "source": [
    "# Hypothesis\n",
    "### Does the sum of all counties in a state equal the reported stat for said state?"
   ]
  },
  {
   "cell_type": "code",
   "execution_count": 34,
   "metadata": {},
   "outputs": [],
   "source": [
    "import pandas as pd\n",
    "import numpy as np"
   ]
  },
  {
   "cell_type": "code",
   "execution_count": 35,
   "metadata": {},
   "outputs": [],
   "source": [
    "df = pd.read_csv(r\"../data/Trips_by_Distance.csv\")"
   ]
  },
  {
   "cell_type": "code",
   "execution_count": 36,
   "metadata": {},
   "outputs": [],
   "source": [
    "df_state = df.groupby(by='Level').get_group('State').reset_index()\n",
    "df_county = df.groupby(by='Level').get_group('County').reset_index()"
   ]
  },
  {
   "cell_type": "code",
   "execution_count": 37,
   "metadata": {},
   "outputs": [],
   "source": [
    "target_date = \"5/11/2019\"# My birthday \n",
    "\n",
    "# Select relevant columns\n",
    "grouping_columns = [\"State FIPS\", \"State Postal Code\"]\n",
    "aggregation_columns = [\n",
    "    \"Population Staying at Home\", \"Population Not Staying at Home\", \"Number of Trips\",\n",
    "    \"Number of Trips <1\", \"Number of Trips 1-3\", \"Number of Trips 3-5\",\n",
    "    \"Number of Trips 5-10\", \"Number of Trips 10-25\", \"Number of Trips 25-50\",\n",
    "    \"Number of Trips 50-100\", \"Number of Trips 100-250\", \"Number of Trips 250-500\",\n",
    "    \"Number of Trips >=500\"\n",
    "]\n",
    "\n",
    "# Only the desired dates\n",
    "df_county_filtered = df_county[df_county[\"Date\"] == target_date]\n",
    "df_state_filtered = df_state[df_state[\"Date\"] == target_date]\n",
    "\n",
    "# Aggregate county-level data by state\n",
    "county_agg = df_county_filtered.groupby(grouping_columns)[aggregation_columns].sum().reset_index()\n",
    "\n",
    "# Merge with state-level data\n",
    "merged_df = county_agg.merge(df_state_filtered, on=grouping_columns, suffixes=(\"_county\", \"_state\"))\n",
    "\n",
    "# Compute the differences\n",
    "for col in aggregation_columns:\n",
    "    merged_df[f\"{col}\"] = merged_df[f\"{col}_county\"] - merged_df[f\"{col}_state\"]\n",
    "\n",
    "# Select relevant columns for final dataset\n",
    "comparison_df = merged_df[[\"State FIPS\", \"State Postal Code\"] + [f\"{col}\" for col in aggregation_columns]]\n",
    "\n"
   ]
  },
  {
   "cell_type": "code",
   "execution_count": 38,
   "metadata": {},
   "outputs": [
    {
     "name": "stdout",
     "output_type": "stream",
     "text": [
      "                       Column Name  % Difference\n",
      "1   Population Not Staying at Home      0.809717\n",
      "12           Number of Trips >=500      0.012080\n",
      "4              Number of Trips 1-3      0.009350\n",
      "9           Number of Trips 50-100      0.008927\n",
      "5              Number of Trips 3-5      0.008641\n",
      "2                  Number of Trips      0.007963\n",
      "3               Number of Trips <1      0.007809\n",
      "6             Number of Trips 5-10      0.007498\n",
      "10         Number of Trips 100-250      0.006916\n",
      "8            Number of Trips 25-50      0.006803\n",
      "7            Number of Trips 10-25      0.006164\n",
      "0       Population Staying at Home      0.005880\n",
      "11         Number of Trips 250-500      0.005721\n"
     ]
    }
   ],
   "source": [
    "comparison_means = comparison_df.mean(numeric_only=True)\n",
    "state_means = df_state.mean(numeric_only=True)\n",
    "\n",
    "# Find common columns to ensure correct matching\n",
    "common_columns = comparison_means.index.intersection(state_means.index).drop('State FIPS')\n",
    "\n",
    "# Calculate percentage of difference\n",
    "percentage_differences = [\n",
    "    (col, abs((comparison_means[col] / state_means[col]) * 100))\n",
    "    for col in common_columns\n",
    "]\n",
    "\n",
    "\n",
    "diff_df = pd.DataFrame(percentage_differences, columns=[\"Column Name\", \"% Difference\"])\n",
    "diff_df = diff_df.sort_values(by=\"% Difference\", ascending=False) \n",
    "print(diff_df)"
   ]
  },
  {
   "cell_type": "markdown",
   "metadata": {},
   "source": [
    "# Conclusion\n",
    "### Within a reasonable margin, the sum of counties within a state represent the state itself in a statistically significant manner\n",
    "##### Thus, further analises can be done just at a county-wide level, and no statistical precision will be lost.\n",
    "It can be stated that for any given day, the sum of all counties make up the corresponding nation and state-wide number of trips"
   ]
  },
  {
   "cell_type": "markdown",
   "metadata": {},
   "source": []
  }
 ],
 "metadata": {
  "kernelspec": {
   "display_name": ".venv",
   "language": "python",
   "name": "python3"
  },
  "language_info": {
   "codemirror_mode": {
    "name": "ipython",
    "version": 3
   },
   "file_extension": ".py",
   "mimetype": "text/x-python",
   "name": "python",
   "nbconvert_exporter": "python",
   "pygments_lexer": "ipython3",
   "version": "3.12.7"
  }
 },
 "nbformat": 4,
 "nbformat_minor": 2
}
