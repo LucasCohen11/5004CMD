{
 "cells": [
  {
   "cell_type": "markdown",
   "metadata": {},
   "source": [
    "# Hypothesis\n",
    "##### Is the sum of every county equal to the reported statistic at a nation-wide level on any given date?"
   ]
  },
  {
   "cell_type": "code",
   "execution_count": 1,
   "metadata": {},
   "outputs": [],
   "source": [
    "import pandas as pd\n",
    "import numpy as np"
   ]
  },
  {
   "cell_type": "code",
   "execution_count": 2,
   "metadata": {},
   "outputs": [],
   "source": [
    "df = pd.read_csv(r\"../data/Trips_by_Distance.csv\")"
   ]
  },
  {
   "cell_type": "code",
   "execution_count": 3,
   "metadata": {},
   "outputs": [],
   "source": [
    "df_national = df.groupby(by='Level').get_group('National').reset_index()\n",
    "df_state = df.groupby(by='Level').get_group('State').reset_index()\n",
    "df_county = df.groupby(by='Level').get_group('County').reset_index()"
   ]
  },
  {
   "cell_type": "code",
   "execution_count": null,
   "metadata": {},
   "outputs": [
    {
     "name": "stdout",
     "output_type": "stream",
     "text": [
      "                       Column Name  % Difference (Aggregated vs National)\n",
      "1   Population Not Staying at Home                               0.780502\n",
      "9           Number of Trips 50-100                               0.008713\n",
      "10         Number of Trips 100-250                               0.007965\n",
      "4              Number of Trips 1-3                               0.007384\n",
      "3               Number of Trips <1                               0.007094\n",
      "5              Number of Trips 3-5                               0.006951\n",
      "0       Population Staying at Home                               0.006839\n",
      "2                  Number of Trips                               0.006725\n",
      "8            Number of Trips 25-50                               0.006243\n",
      "12           Number of Trips >=500                               0.006214\n",
      "6             Number of Trips 5-10                               0.006192\n",
      "11         Number of Trips 250-500                               0.006066\n",
      "7            Number of Trips 10-25                               0.005278\n"
     ]
    }
   ],
   "source": [
    "target_date = \"5/11/2019\"  # My birthday\n",
    "\n",
    "\n",
    "aggregation_columns = [\n",
    "    \"Population Staying at Home\", \"Population Not Staying at Home\", \"Number of Trips\",\n",
    "    \"Number of Trips <1\", \"Number of Trips 1-3\", \"Number of Trips 3-5\",\n",
    "    \"Number of Trips 5-10\", \"Number of Trips 10-25\", \"Number of Trips 25-50\",\n",
    "    \"Number of Trips 50-100\", \"Number of Trips 100-250\", \"Number of Trips 250-500\",\n",
    "    \"Number of Trips >=500\"\n",
    "]\n",
    "\n",
    "\n",
    "df_county_filtered = df_county[df_county[\"Date\"] == target_date]\n",
    "df_national_filtered = df_national[df_national[\"Date\"] == target_date]\n",
    "\n",
    "\n",
    "\n",
    "county_agg = df_county_filtered[aggregation_columns].sum()\n",
    "national_values = df_national_filtered[aggregation_columns].sum()  \n",
    "\n",
    "common_columns = county_agg.index.intersection(national_values.index)\n",
    "\n",
    "percentage_differences = []\n",
    "for col in common_columns:\n",
    "    reported_value = national_values[col]\n",
    "    \n",
    "    if abs(reported_value) < 1e-9:\n",
    "        diff = float('nan')\n",
    "    else:\n",
    "        diff = abs((county_agg[col] - reported_value) / reported_value) * 100\n",
    "    \n",
    "    percentage_differences.append((col, diff))\n",
    "\n",
    "diff_df = pd.DataFrame(percentage_differences, columns=[\"Column Name\", \"% Difference (Aggregated vs National)\"])\n",
    "diff_df = diff_df.sort_values(by=\"% Difference (Aggregated vs National)\", ascending=False)  \n",
    "print(diff_df)\n"
   ]
  },
  {
   "cell_type": "markdown",
   "metadata": {},
   "source": [
    "# Conclusion\n",
    "#### Within a reasonable margin, the sum of all county-level statistics on any given date significantly represent the corresponding nation-wide reported statistic"
   ]
  },
  {
   "cell_type": "markdown",
   "metadata": {},
   "source": []
  }
 ],
 "metadata": {
  "kernelspec": {
   "display_name": ".venv",
   "language": "python",
   "name": "python3"
  },
  "language_info": {
   "codemirror_mode": {
    "name": "ipython",
    "version": 3
   },
   "file_extension": ".py",
   "mimetype": "text/x-python",
   "name": "python",
   "nbconvert_exporter": "python",
   "pygments_lexer": "ipython3",
   "version": "3.12.7"
  }
 },
 "nbformat": 4,
 "nbformat_minor": 2
}
