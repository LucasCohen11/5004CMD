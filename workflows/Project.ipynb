{
 "cells": [
  {
   "cell_type": "code",
   "execution_count": 1,
   "id": "d9282c8a",
   "metadata": {},
   "outputs": [],
   "source": [
    "from q1a import *\n",
    "from q1b import *\n",
    "from q1c import *\n",
    "from q1d import *\n",
    "from q1e import *\n",
    "from tester import compareImplementations as compare\n",
    "import pandas as pd"
   ]
  },
  {
   "cell_type": "code",
   "execution_count": null,
   "id": "3a7b0928",
   "metadata": {},
   "outputs": [],
   "source": [
    "sequential_implementations =(q1a_sequential,q1b_sequential,q1c_sequential,q1d_sequential,q1e_sequential)\n",
    "Dask_implementations =(q1a_Dask,q1b_Dask,q1c_Dask,q1d_Dask,q1e_Dask)\n",
    "\n",
    "\n",
    "rows = []\n",
    "for index,(seq,dask) in enumerate(zip(sequential_implementations,Dask_implementations)):\n",
    "    timings = compare(seq,dask)\n",
    "    new_row = {\n",
    "            'Task':chr(65+index),\n",
    "            'Sequential Runtime':timings[0],\n",
    "            'Dask Runtime':timings[1]\n",
    "        }\n",
    "    rows.append(new_row)\n",
    "\n",
    "results = pd.DataFrame(rows)\n"
   ]
  },
  {
   "cell_type": "code",
   "execution_count": 3,
   "id": "c2457eb9",
   "metadata": {},
   "outputs": [
    {
     "name": "stdout",
     "output_type": "stream",
     "text": [
      "  Task  Sequential Runtime  Dask Runtime\n",
      "0    A            0.107597      0.149815\n",
      "1    B            0.044098      0.141235\n",
      "2    C            0.000000      0.000000\n",
      "3    D            0.117449      0.441628\n",
      "4    E            0.338705      0.216765\n"
     ]
    }
   ],
   "source": [
    "print(results)"
   ]
  },
  {
   "cell_type": "code",
   "execution_count": 4,
   "id": "0d7488cf",
   "metadata": {},
   "outputs": [
    {
     "data": {
      "image/png": "[encoded data removed]",
      "text/plain": [
       "<Figure size 640x480 with 1 Axes>"
      ]
     },
     "metadata": {},
     "output_type": "display_data"
    }
   ],
   "source": [
    "import matplotlib.pyplot as plt\n",
    "\n",
    "ax = results.plot(kind='bar', x='Task')\n",
    "ax.legend(bbox_to_anchor=(1.05, 1), loc='upper left')\n",
    "plt.show()"
   ]
  },
  {
   "cell_type": "markdown",
   "id": "9eed5c47",
   "metadata": {},
   "source": []
  }
 ],
 "metadata": {
  "kernelspec": {
   "display_name": ".venv",
   "language": "python",
   "name": "python3"
  },
  "language_info": {
   "codemirror_mode": {
    "name": "ipython",
    "version": 3
   },
   "file_extension": ".py",
   "mimetype": "text/x-python",
   "name": "python",
   "nbconvert_exporter": "python",
   "pygments_lexer": "ipython3",
   "version": "3.12.7"
  }
 },
 "nbformat": 4,
 "nbformat_minor": 5
}
